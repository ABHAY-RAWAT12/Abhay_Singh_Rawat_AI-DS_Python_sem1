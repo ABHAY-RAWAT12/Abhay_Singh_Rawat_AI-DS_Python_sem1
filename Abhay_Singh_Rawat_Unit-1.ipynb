{
 "cells": [
  {
   "cell_type": "markdown",
   "id": "0a79e59c-cd46-4007-81c3-4e4e20e9b201",
   "metadata": {},
   "source": [
    "1.  Write a python programme to print \"Hello World\":"
   ]
  },
  {
   "cell_type": "code",
   "execution_count": 2,
   "id": "a5e269bd-e398-45a3-bb33-eb4af42e40b6",
   "metadata": {},
   "outputs": [
    {
     "name": "stdout",
     "output_type": "stream",
     "text": [
      "Hello World\n"
     ]
    }
   ],
   "source": [
    "print(\"Hello World\")"
   ]
  },
  {
   "cell_type": "markdown",
   "id": "31043cc1-e25f-4ea8-ab3c-eb5ff32974e2",
   "metadata": {},
   "source": [
    "2. Write a python programme to input two numbers and perform all the basic operations.\r\n"
   ]
  },
  {
   "cell_type": "code",
   "execution_count": 48,
   "id": "5b231e1c-d6ab-4882-8d86-5f76ef2d3ccf",
   "metadata": {},
   "outputs": [],
   "source": [
    "def sum(x,y):\n",
    "    return x+y\n",
    "def sub(x,y):\n",
    "    return x-y\n",
    "def prod(x,y):\n",
    "    return x*y\n",
    "def div(x,y):\n",
    "    if y==0:\n",
    "        print(\"Can't divided by zero\")\n",
    "    return x/y"
   ]
  },
  {
   "cell_type": "code",
   "execution_count": 125,
   "id": "6d87f110-0da7-4c23-9981-c3c70ac81476",
   "metadata": {},
   "outputs": [
    {
     "name": "stdin",
     "output_type": "stream",
     "text": [
      "Enter first number:  5\n",
      "Enter second number:  6\n"
     ]
    },
    {
     "name": "stdout",
     "output_type": "stream",
     "text": [
      "Addition: 11\n",
      "Subtraction: -1\n",
      "Multiplication: 30\n",
      "Division: 0.8333333333333334\n",
      "Modulus: 5\n"
     ]
    }
   ],
   "source": [
    "a=int(input(\"Enter first number: \"))\n",
    "b=int(input(\"Enter second number: \"))\n",
    "\n",
    "addition = a + b\n",
    "subtraction = a - b\n",
    "multiplication = a * b\n",
    "division = a / b if b != 0 else \"Undefined (cannot divide by zero)\"\n",
    "modulus = a % b if b != 0 else \"Undefined (cannot divide by zero)\"\n",
    "\n",
    "print(f\"Addition: {addition}\")\n",
    "print(f\"Subtraction: {subtraction}\")\n",
    "print(f\"Multiplication: {multiplication}\")\n",
    "print(f\"Division: {division}\")\n",
    "print(f\"Modulus: {modulus}\")"
   ]
  },
  {
   "cell_type": "markdown",
   "id": "6ade588b-1674-42e4-a28d-fd811a1bf895",
   "metadata": {},
   "source": [
    "3. Write a python programme to check whether a number is even or odd. \r\n"
   ]
  },
  {
   "cell_type": "code",
   "execution_count": 12,
   "id": "cfc73e46-bd5c-4258-8d78-aee8c96b597a",
   "metadata": {},
   "outputs": [
    {
     "name": "stdin",
     "output_type": "stream",
     "text": [
      "Enter your number: 6\n"
     ]
    },
    {
     "name": "stdout",
     "output_type": "stream",
     "text": [
      "even\n"
     ]
    }
   ],
   "source": [
    "a = int(input('Enter your number:'))\n",
    "if a%2==0:\n",
    "    print('even')\n",
    "else:\n",
    "    print('odd')\n"
   ]
  },
  {
   "cell_type": "code",
   "execution_count": 14,
   "id": "a1982639-ed97-40d7-92f3-47c2fb4efe55",
   "metadata": {},
   "outputs": [
    {
     "name": "stdin",
     "output_type": "stream",
     "text": [
      "Enter your number: 5\n"
     ]
    },
    {
     "name": "stdout",
     "output_type": "stream",
     "text": [
      "odd\n"
     ]
    }
   ],
   "source": [
    "a = int(input('Enter your number:'))\n",
    "if a%2==0:\n",
    "    print('even')\n",
    "else:\n",
    "    print('odd')\n"
   ]
  },
  {
   "cell_type": "markdown",
   "id": "a45cb81c-fda0-4523-90a5-1c1bb926de17",
   "metadata": {},
   "source": [
    "4. Write a python programme to check whether a number is divisible by 3 or not. If the number is divisible by 3, also check it is divisible by 5.\r\n"
   ]
  },
  {
   "cell_type": "code",
   "execution_count": 21,
   "id": "5dde409a-f7d4-4824-a602-b9e2d9da4058",
   "metadata": {},
   "outputs": [
    {
     "name": "stdin",
     "output_type": "stream",
     "text": [
      "Enter a number:  12\n"
     ]
    },
    {
     "name": "stdout",
     "output_type": "stream",
     "text": [
      "12 is divisible by 3.\n"
     ]
    }
   ],
   "source": [
    "a= int(input(\"Enter a number: \"))\n",
    "if a%3==0:\n",
    "    print(f\"{a} is divisible by 3.\")\n",
    "    if a%5==0:\n",
    "        print(f\"{a} is divisible by 5 also.\")\n",
    "else:\n",
    "    print(f\"{a} is not divisible by 3\")"
   ]
  },
  {
   "cell_type": "code",
   "execution_count": 23,
   "id": "d3113193-e9d3-47ee-b2a2-45dbfa3b69fc",
   "metadata": {},
   "outputs": [
    {
     "name": "stdin",
     "output_type": "stream",
     "text": [
      "Enter a number:  8\n"
     ]
    },
    {
     "name": "stdout",
     "output_type": "stream",
     "text": [
      "8 is not divisible by 3\n"
     ]
    }
   ],
   "source": [
    "a= int(input(\"Enter a number: \"))\n",
    "if a%3==0:\n",
    "    print(f\"{a} is divisible by 3.\")\n",
    "    if a%5==0:\n",
    "        print(f\"{a} is divisible by 5 also.\")\n",
    "else:\n",
    "    print(f\"{a} is not divisible by 3\")"
   ]
  },
  {
   "cell_type": "code",
   "execution_count": 25,
   "id": "37480ca5-ba6d-4626-a939-31b0e1713da7",
   "metadata": {},
   "outputs": [
    {
     "name": "stdin",
     "output_type": "stream",
     "text": [
      "Enter a number:  15\n"
     ]
    },
    {
     "name": "stdout",
     "output_type": "stream",
     "text": [
      "15 is divisible by 3.\n",
      "15 is divisible by 5 also.\n"
     ]
    }
   ],
   "source": [
    "a= int(input(\"Enter a number: \"))\n",
    "if a%3==0:\n",
    "    print(f\"{a} is divisible by 3.\")\n",
    "    if a%5==0:\n",
    "        print(f\"{a} is divisible by 5 also.\")\n",
    "else:\n",
    "    print(f\"{a} is not divisible by 3\")"
   ]
  },
  {
   "cell_type": "markdown",
   "id": "d1689187-1daf-44a7-b763-fdf17c00a14a",
   "metadata": {},
   "source": [
    "5. Create a basic programme that allows the users to check balance, deposit and withdraw money ensuring they don't with draw more than the balance.\r\n"
   ]
  },
  {
   "cell_type": "code",
   "execution_count": 119,
   "id": "1a6083e7-44ad-454c-98d1-1be741f91ea6",
   "metadata": {},
   "outputs": [
    {
     "name": "stdout",
     "output_type": "stream",
     "text": [
      "\n",
      "--- ATM Menu ---\n",
      "1. Check Balance\n",
      "2. Deposit Money\n",
      "3. Withdraw Money\n",
      "4. Exit\n"
     ]
    },
    {
     "name": "stdin",
     "output_type": "stream",
     "text": [
      "Choose an option:  4\n"
     ]
    },
    {
     "name": "stdout",
     "output_type": "stream",
     "text": [
      "Thank you for using the ATM. Goodbye!\n"
     ]
    }
   ],
   "source": [
    "balance = 0.0\n",
    "\n",
    "def check_balance():\n",
    "    print(f\"Your current balance is: ${balance:.2f}\")\n",
    "\n",
    "def deposit():\n",
    "    global balance\n",
    "    amount = float(input(\"Enter amount to deposit: $\"))\n",
    "    if amount > 0:\n",
    "        balance += amount\n",
    "        print(f\"${amount:.2f} deposited successfully.\")\n",
    "    else:\n",
    "        print(\"Invalid deposit amount. Please enter a positive value.\")\n",
    "\n",
    "def withdraw():\n",
    "    global balance\n",
    "    amount = float(input(\"Enter amount to withdraw: $\"))\n",
    "    if amount > balance:\n",
    "        print(\"Insufficient funds. You cannot withdraw more than your current balance.\")\n",
    "    elif amount <= 0:\n",
    "        print(\"Invalid withdrawal amount. Please enter a positive value.\")\n",
    "    else:\n",
    "        balance -= amount\n",
    "        print(f\"${amount:.2f} withdrawn successfully.\")\n",
    "\n",
    "# ATM menu\n",
    "while True:\n",
    "    print(\"\\n--- ATM Menu ---\")\n",
    "    print(\"1. Check Balance\")\n",
    "    print(\"2. Deposit Money\")\n",
    "    print(\"3. Withdraw Money\")\n",
    "    print(\"4. Exit\")\n",
    "\n",
    "    choice = input(\"Choose an option: \")\n",
    "\n",
    "    if choice == \"1\":\n",
    "        check_balance()\n",
    "    elif choice == \"2\":\n",
    "        deposit()\n",
    "    elif choice == \"3\":\n",
    "        withdraw()\n",
    "    elif choice == \"4\":\n",
    "        print(\"Thank you for using the ATM. Goodbye!\")\n",
    "        break\n",
    "    else:\n",
    "        print(\"Invalid choice. Please choose a valid option.\")"
   ]
  }
 ],
 "metadata": {
  "kernelspec": {
   "display_name": "Python 3 (ipykernel)",
   "language": "python",
   "name": "python3"
  },
  "language_info": {
   "codemirror_mode": {
    "name": "ipython",
    "version": 3
   },
   "file_extension": ".py",
   "mimetype": "text/x-python",
   "name": "python",
   "nbconvert_exporter": "python",
   "pygments_lexer": "ipython3",
   "version": "3.11.7"
  }
 },
 "nbformat": 4,
 "nbformat_minor": 5
}

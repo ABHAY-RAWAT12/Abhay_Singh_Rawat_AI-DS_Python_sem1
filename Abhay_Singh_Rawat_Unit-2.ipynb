{
 "cells": [
  {
   "cell_type": "markdown",
   "id": "15a5e16c-a3c1-47b9-a2b5-95814dc5108c",
   "metadata": {},
   "source": [
    "Write a python program to print Fibonacci series. 0-100.\n"
   ]
  },
  {
   "cell_type": "code",
   "execution_count": 4,
   "id": "5e2012d5-5012-4348-9260-63d0d0e8c206",
   "metadata": {},
   "outputs": [
    {
     "name": "stdout",
     "output_type": "stream",
     "text": [
      "0 1 1 2 3 5 8 13 21 34 55 89 "
     ]
    }
   ],
   "source": [
    "a=0\n",
    "b=1\n",
    "\n",
    "n=100\n",
    "while a<n:\n",
    "    print(a, end=\" \")\n",
    "    c=a\n",
    "    a=b\n",
    "    b=a+c"
   ]
  },
  {
   "cell_type": "markdown",
   "id": "5cc0e60c-7309-4a24-afb0-386a37a5b3e0",
   "metadata": {},
   "source": [
    "Write a python program to print table of any inputted number from a user.\n"
   ]
  },
  {
   "cell_type": "code",
   "execution_count": 7,
   "id": "23adbde8-7296-486d-bb7e-aaca4f3e87be",
   "metadata": {},
   "outputs": [],
   "source": [
    "def prod(x,y):\n",
    "    return()"
   ]
  },
  {
   "cell_type": "code",
   "execution_count": 9,
   "id": "1fc1be81-7917-42ba-acd3-a4867265e06a",
   "metadata": {},
   "outputs": [
    {
     "name": "stdin",
     "output_type": "stream",
     "text": [
      "Enter a number:  6\n"
     ]
    },
    {
     "name": "stdout",
     "output_type": "stream",
     "text": [
      "6 x 1 =  ()\n",
      "6 x 2 =  ()\n",
      "6 x 3 =  ()\n",
      "6 x 4 =  ()\n",
      "6 x 5 =  ()\n",
      "6 x 6 =  ()\n",
      "6 x 7 =  ()\n",
      "6 x 8 =  ()\n",
      "6 x 9 =  ()\n",
      "6 x 10 =  ()\n"
     ]
    }
   ],
   "source": [
    "a=int(input(\"Enter a number: \"))\n",
    "for i in range(1,10+1):\n",
    "    print(a, \"x\", i, \"= \", prod(i,a))"
   ]
  },
  {
   "cell_type": "markdown",
   "id": "ce9d4987-5d59-4ef8-b8e0-ad92bc4d0458",
   "metadata": {},
   "source": [
    "Write a python programme to print all the even numbers from 1 to 100.\n"
   ]
  },
  {
   "cell_type": "code",
   "execution_count": 12,
   "id": "9ed78b9b-5770-4f53-bf0c-ea2230eb4811",
   "metadata": {},
   "outputs": [
    {
     "name": "stdout",
     "output_type": "stream",
     "text": [
      "0 2 4 6 8 10 12 14 16 18 20 22 24 26 28 30 32 34 36 38 40 42 44 46 48 50 52 54 56 58 60 62 64 66 68 70 72 74 76 78 80 82 84 86 88 90 92 94 96 98 100 "
     ]
    }
   ],
   "source": [
    "for i in range(0,100+1):\n",
    "    if i%2==0:\n",
    "        print(i, end=\" \")"
   ]
  },
  {
   "cell_type": "markdown",
   "id": "98575b41-90d1-4231-9640-b4cab6a4a64c",
   "metadata": {},
   "source": [
    "Write a python programme to print:\n",
    "###### ******\n",
    "###### ******\n",
    "###### ******\n",
    "###### ******\n",
    "###### ******\n",
    "###### ******"
   ]
  },
  {
   "cell_type": "code",
   "execution_count": 15,
   "id": "ca58b422-a3fb-4bf9-bdc0-da00a2bb57c7",
   "metadata": {},
   "outputs": [
    {
     "name": "stdout",
     "output_type": "stream",
     "text": [
      "******\n",
      "******\n",
      "******\n",
      "******\n",
      "******\n",
      "******\n"
     ]
    }
   ],
   "source": [
    "for i in range(0,6):\n",
    "    for j in range(0,6):\n",
    "        print(\"*\", end=\"\")\n",
    "    print()"
   ]
  },
  {
   "cell_type": "markdown",
   "id": "8d548090-7095-441a-badc-0652a228c405",
   "metadata": {},
   "source": [
    "Write a python programme to print:"
   ]
  },
  {
   "cell_type": "markdown",
   "id": "385e8e11-d999-413a-87b3-e4370d5aa75a",
   "metadata": {},
   "source": [
    "###### *\n",
    "###### **\n",
    "###### ***\n",
    "###### ****\n",
    "###### *****"
   ]
  },
  {
   "cell_type": "code",
   "execution_count": 20,
   "id": "c93de72d-8612-4e9a-add3-89d3867f1b85",
   "metadata": {},
   "outputs": [
    {
     "name": "stdout",
     "output_type": "stream",
     "text": [
      "\n",
      "*\n",
      "**\n",
      "***\n",
      "****\n",
      "*****\n"
     ]
    }
   ],
   "source": [
    "for i in range(0,6):\n",
    "    for j in range(0,i):\n",
    "        print(\"*\", end=\"\")\n",
    "    print()"
   ]
  },
  {
   "cell_type": "markdown",
   "id": "30ceaee3-71a7-4c0e-8ab8-cec01b69374a",
   "metadata": {},
   "source": [
    "Write a python program to create functions for every mathematical operation and create a calculator for using the same\n"
   ]
  },
  {
   "cell_type": "code",
   "execution_count": 23,
   "id": "0f3c4fe3-0def-4a93-a7af-4445a9adac05",
   "metadata": {},
   "outputs": [],
   "source": [
    "def sum(a,b):\n",
    "    return a+b\n",
    "def sub(a,b):\n",
    "    return a-b\n",
    "def prod(a,b):\n",
    "    return a*b\n",
    "def div(a,b):\n",
    "    if b==0:\n",
    "        print(\"Cannot divide by zero\")\n",
    "    return a/b"
   ]
  },
  {
   "cell_type": "code",
   "execution_count": 25,
   "id": "22aa0c9f-5de5-478b-9eae-71444a085fff",
   "metadata": {},
   "outputs": [],
   "source": [
    "def calculator():\n",
    "    print(\"Welcome to the Basic Calculator!\\n\")\n",
    "    while True:\n",
    "        print(\"Select an operation:\")\n",
    "        print(\"1. Addition\")\n",
    "        print(\"2. Subtraction\")\n",
    "        print(\"3. Multiplication\")\n",
    "        print(\"4. Division\")\n",
    "        print(\"5. Exit\")\n",
    "\n",
    "        choice = input(\"Enter your choice (1/2/3/4/5): \")\n",
    "        if choice== '5':\n",
    "            print(\"Exited calculator!\")\n",
    "            break\n",
    "        if choice in ['1','2','3','4']:\n",
    "            a= int(input(\"Enter your first number\"))\n",
    "            b= int(input(\"Enter your second number\"))\n",
    "\n",
    "            if choice == '1':\n",
    "                print(f\"{a} + {b} = {sum(a,b)}\")\n",
    "            elif choice == '2':\n",
    "                print(f\"{a} - {b} = {sub(a,b)}\")\n",
    "            elif choice == '3':\n",
    "                print(f\"{a} x {b} = {prod(a,b)}\")\n",
    "            elif choice == '4':\n",
    "                print(f\"{a} / {b} = {div(a,b)}\\n\")\n",
    "            else:\n",
    "                print(\"Please select a valid operation\")\n"
   ]
  },
  {
   "cell_type": "code",
   "execution_count": 27,
   "id": "b43e7429-a278-4ad9-8e38-2178a71b17f7",
   "metadata": {},
   "outputs": [
    {
     "name": "stdout",
     "output_type": "stream",
     "text": [
      "Welcome to the Basic Calculator!\n",
      "\n",
      "Select an operation:\n",
      "1. Addition\n",
      "2. Subtraction\n",
      "3. Multiplication\n",
      "4. Division\n",
      "5. Exit\n"
     ]
    },
    {
     "name": "stdin",
     "output_type": "stream",
     "text": [
      "Enter your choice (1/2/3/4/5):  5\n"
     ]
    },
    {
     "name": "stdout",
     "output_type": "stream",
     "text": [
      "Exited calculator!\n"
     ]
    }
   ],
   "source": [
    "calculator()"
   ]
  },
  {
   "cell_type": "code",
   "execution_count": null,
   "id": "69cae304-3006-45c8-97f8-02fb76409cae",
   "metadata": {},
   "outputs": [],
   "source": []
  },
  {
   "cell_type": "code",
   "execution_count": null,
   "id": "3a5f842e-1955-4078-a932-7ce4280889f9",
   "metadata": {},
   "outputs": [],
   "source": []
  }
 ],
 "metadata": {
  "kernelspec": {
   "display_name": "Python 3 (ipykernel)",
   "language": "python",
   "name": "python3"
  },
  "language_info": {
   "codemirror_mode": {
    "name": "ipython",
    "version": 3
   },
   "file_extension": ".py",
   "mimetype": "text/x-python",
   "name": "python",
   "nbconvert_exporter": "python",
   "pygments_lexer": "ipython3",
   "version": "3.11.7"
  }
 },
 "nbformat": 4,
 "nbformat_minor": 5
}

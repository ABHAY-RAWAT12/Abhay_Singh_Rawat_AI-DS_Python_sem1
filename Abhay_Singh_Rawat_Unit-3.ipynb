{
 "cells": [
  {
   "cell_type": "markdown",
   "id": "7fa4ce32-3fd4-4064-a991-3c7aa816c998",
   "metadata": {},
   "source": [
    "Write a python program to swap two numbers:\r\n"
   ]
  },
  {
   "cell_type": "markdown",
   "id": "5e73a247-8b72-425f-a62a-4edc11973139",
   "metadata": {},
   "source": [
    "(a) using 3rd variable\n"
   ]
  },
  {
   "cell_type": "code",
   "execution_count": 8,
   "id": "9d7c80dd-0157-49ea-87cd-d5b53623e180",
   "metadata": {},
   "outputs": [
    {
     "name": "stdout",
     "output_type": "stream",
     "text": [
      "a = 10\n",
      "b = 5\n"
     ]
    }
   ],
   "source": [
    "a = 5\n",
    "b = 10\n",
    "temp = a\n",
    "a = b\n",
    "b = temp\n",
    "print(\"a =\", a)\n",
    "print(\"b =\", b)\n"
   ]
  },
  {
   "cell_type": "markdown",
   "id": "05ff29f7-22e6-4885-955b-f4c18509601e",
   "metadata": {},
   "source": [
    "(b) using another variable"
   ]
  },
  {
   "cell_type": "code",
   "execution_count": 10,
   "id": "46fc4a3e-95df-4c0a-aace-bf4d22efa9c9",
   "metadata": {},
   "outputs": [
    {
     "name": "stdout",
     "output_type": "stream",
     "text": [
      "a = 10\n",
      "b = 5\n"
     ]
    }
   ],
   "source": [
    "a = 5\n",
    "b = 10\n",
    "a = a + b\n",
    "b = a - b\n",
    "a = a - b\n",
    "print(\"a =\", a)\n",
    "print(\"b =\", b)"
   ]
  },
  {
   "cell_type": "markdown",
   "id": "de4bcffe-946e-4b44-bd63-48b63969d03d",
   "metadata": {},
   "source": [
    "(c) using a straight line"
   ]
  },
  {
   "cell_type": "code",
   "execution_count": 12,
   "id": "cbc628f4-2520-4006-acfa-75857f7c897d",
   "metadata": {},
   "outputs": [
    {
     "name": "stdout",
     "output_type": "stream",
     "text": [
      "a = 10\n",
      "b = 5\n"
     ]
    }
   ],
   "source": [
    "a = 5\n",
    "b = 10\n",
    "\n",
    "a, b = b, a\n",
    "\n",
    "print(\"a =\", a)\n",
    "print(\"b =\", b)"
   ]
  },
  {
   "cell_type": "code",
   "execution_count": null,
   "id": "abfaa41e-238b-4bd3-9cb7-df6ea78b7c74",
   "metadata": {},
   "outputs": [],
   "source": []
  },
  {
   "cell_type": "markdown",
   "id": "d0194d8a-6bf3-4d15-acb4-039889b3bd41",
   "metadata": {},
   "source": [
    "Write a python programme to create a function to check even and odd."
   ]
  },
  {
   "cell_type": "code",
   "execution_count": 15,
   "id": "834bd5b9-8dd1-445a-aa5b-1393406e3191",
   "metadata": {},
   "outputs": [
    {
     "name": "stdin",
     "output_type": "stream",
     "text": [
      "Enter a number:  15\n"
     ]
    },
    {
     "name": "stdout",
     "output_type": "stream",
     "text": [
      "The number 15 is Odd.\n"
     ]
    }
   ],
   "source": [
    "def check_even_odd(number):\n",
    "    if number % 2 == 0:\n",
    "        return \"Even\"\n",
    "    else:\n",
    "        return \"Odd\"\n",
    "\n",
    "num = int(input(\"Enter a number: \"))\n",
    "\n",
    "result = check_even_odd(num)\n",
    "print(f\"The number {num} is {result}.\")\n"
   ]
  },
  {
   "cell_type": "code",
   "execution_count": 17,
   "id": "26f8d516-e33b-430a-8ba3-740f8be47af4",
   "metadata": {},
   "outputs": [
    {
     "name": "stdin",
     "output_type": "stream",
     "text": [
      "Enter a number:  16\n"
     ]
    },
    {
     "name": "stdout",
     "output_type": "stream",
     "text": [
      "The number 16 is Even.\n"
     ]
    }
   ],
   "source": [
    "def check_even_odd(number):\n",
    "    if number % 2 == 0:\n",
    "        return \"Even\"\n",
    "    else:\n",
    "        return \"Odd\"\n",
    "\n",
    "num = int(input(\"Enter a number: \"))\n",
    "\n",
    "result = check_even_odd(num)\n",
    "print(f\"The number {num} is {result}.\")\n"
   ]
  },
  {
   "cell_type": "code",
   "execution_count": null,
   "id": "51145b8f-16a9-4454-b525-f7942f096c01",
   "metadata": {},
   "outputs": [],
   "source": []
  },
  {
   "cell_type": "markdown",
   "id": "0099d698-f262-48b6-a282-2e8e29c91124",
   "metadata": {},
   "source": [
    "Write a python programme to create function that outputs factorial of a number."
   ]
  },
  {
   "cell_type": "code",
   "execution_count": 20,
   "id": "299035b7-e6ae-4d93-8be9-8768bacc0b29",
   "metadata": {},
   "outputs": [
    {
     "name": "stdin",
     "output_type": "stream",
     "text": [
      "Enter a number:  56\n"
     ]
    },
    {
     "name": "stdout",
     "output_type": "stream",
     "text": [
      "The factorial of 56 is 710998587804863451854045647463724949736497978881168458687447040000000000000.\n"
     ]
    }
   ],
   "source": [
    "def factorial(n):\n",
    "    result = 1\n",
    "    for i in range(1, n + 1):\n",
    "        result *= i\n",
    "    return result\n",
    "num = int(input(\"Enter a number: \"))\n",
    "fact = factorial(num)\n",
    "print(f\"The factorial of {num} is {fact}.\")"
   ]
  },
  {
   "cell_type": "code",
   "execution_count": null,
   "id": "b2b6c729-ce72-4bf4-9d72-18d47447fe4c",
   "metadata": {},
   "outputs": [],
   "source": []
  },
  {
   "cell_type": "markdown",
   "id": "ddd3e443-4313-4658-93e1-81726e572e42",
   "metadata": {
    "jp-MarkdownHeadingCollapsed": true
   },
   "source": [
    "Write a python programme to create a function that inputs any numbers of parameters and output:age"
   ]
  },
  {
   "cell_type": "markdown",
   "id": "55cf983f-6780-4ca4-8b88-3562ec6cdd7e",
   "metadata": {},
   "source": [
    "Sum, Product, Average"
   ]
  },
  {
   "cell_type": "code",
   "execution_count": 35,
   "id": "148f27ef-fd13-4439-8917-3b395a583f6d",
   "metadata": {},
   "outputs": [
    {
     "name": "stdin",
     "output_type": "stream",
     "text": [
      "Enter numbers separated by space:  45 50\n"
     ]
    },
    {
     "name": "stdout",
     "output_type": "stream",
     "text": [
      "Sum: 95\n",
      "Product: 2250\n",
      "Average: 47.50\n"
     ]
    }
   ],
   "source": [
    "\n",
    "def calculate_operations(*args):\n",
    "    total_sum = sum(args)\n",
    "    \n",
    "    total_product = 1\n",
    "    for num in args:\n",
    "        total_product *= num\n",
    "    \n",
    "    average = total_sum / len(args) if args else 0\n",
    "    \n",
    "    return total_sum, total_product, average\n",
    "\n",
    "numbers = list(map(int, input(\"Enter numbers separated by space: \").split()))\n",
    "\n",
    "sum_result, product_result, average_result = calculate_operations(*numbers)\n",
    "\n",
    "print(f\"Sum: {sum_result}\")\n",
    "print(f\"Product: {product_result}\")\n",
    "print(f\"Average: {average_result:.2f}\")\n"
   ]
  },
  {
   "cell_type": "code",
   "execution_count": null,
   "id": "4e81f560-aad6-45e5-b83d-8a378c6a463b",
   "metadata": {},
   "outputs": [],
   "source": []
  },
  {
   "cell_type": "markdown",
   "id": "be7ad470-9fa4-4f69-9c0d-0b98eb25ab38",
   "metadata": {},
   "source": [
    "Write a python programme to create a function that sums the first two numbers"
   ]
  },
  {
   "cell_type": "code",
   "execution_count": 38,
   "id": "620c6bc2-6bad-4dac-b739-4ac56f2207cc",
   "metadata": {},
   "outputs": [
    {
     "name": "stdin",
     "output_type": "stream",
     "text": [
      "Enter the first number:  5\n",
      "Enter the second number:  6\n"
     ]
    },
    {
     "name": "stdout",
     "output_type": "stream",
     "text": [
      "The sum of 5.0 and 6.0 is: 11.0\n"
     ]
    }
   ],
   "source": [
    "def sum_of_two_numbers(a, b):\n",
    "    total = a + b\n",
    "    print(f\"The sum of {a} and {b} is: {total}\")\n",
    "num1 = float(input(\"Enter the first number: \"))\n",
    "num2 = float(input(\"Enter the second number: \"))\n",
    "sum_of_two_numbers(num1, num2)\n"
   ]
  }
 ],
 "metadata": {
  "kernelspec": {
   "display_name": "Python 3 (ipykernel)",
   "language": "python",
   "name": "python3"
  },
  "language_info": {
   "codemirror_mode": {
    "name": "ipython",
    "version": 3
   },
   "file_extension": ".py",
   "mimetype": "text/x-python",
   "name": "python",
   "nbconvert_exporter": "python",
   "pygments_lexer": "ipython3",
   "version": "3.11.7"
  }
 },
 "nbformat": 4,
 "nbformat_minor": 5
}
